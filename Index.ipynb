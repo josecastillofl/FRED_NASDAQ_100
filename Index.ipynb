{
 "cells": [
  {
   "cell_type": "markdown",
   "id": "5057f241",
   "metadata": {},
   "source": [
    "# FRED NASDAQ 100 - Analysis"
   ]
  },
  {
   "cell_type": "code",
   "execution_count": 6,
   "id": "5a0884fb",
   "metadata": {
    "collapsed": true
   },
   "outputs": [
    {
     "name": "stdout",
     "output_type": "stream",
     "text": [
      "Collecting fredapi\n",
      "  Downloading fredapi-0.5.0-py3-none-any.whl (11 kB)\n",
      "Requirement already satisfied: pandas in c:\\users\\josec\\anaconda3\\lib\\site-packages (from fredapi) (1.4.4)\n",
      "Requirement already satisfied: python-dateutil>=2.8.1 in c:\\users\\josec\\anaconda3\\lib\\site-packages (from pandas->fredapi) (2.8.2)\n",
      "Requirement already satisfied: numpy>=1.18.5 in c:\\users\\josec\\anaconda3\\lib\\site-packages (from pandas->fredapi) (1.21.5)\n",
      "Requirement already satisfied: pytz>=2020.1 in c:\\users\\josec\\anaconda3\\lib\\site-packages (from pandas->fredapi) (2022.1)\n",
      "Requirement already satisfied: six>=1.5 in c:\\users\\josec\\anaconda3\\lib\\site-packages (from python-dateutil>=2.8.1->pandas->fredapi) (1.16.0)\n",
      "Installing collected packages: fredapi\n",
      "Successfully installed fredapi-0.5.0\n"
     ]
    }
   ],
   "source": [
    "!pip install fredapi"
   ]
  },
  {
   "cell_type": "code",
   "execution_count": 4,
   "id": "428009e9",
   "metadata": {},
   "outputs": [],
   "source": [
    "import pandas as pd\n",
    "import numpy as np\n",
    "import matplotlib.pyplot as plt\n",
    "\n",
    "plt.style.use('fivethirtyeight')\n",
    "\n",
    "from fredapi import Fred"
   ]
  },
  {
   "cell_type": "code",
   "execution_count": null,
   "id": "1de2bc9f",
   "metadata": {},
   "outputs": [],
   "source": [
    "#XD8d6325092e6896a0a23f1c430361737flol"
   ]
  }
 ],
 "metadata": {
  "kernelspec": {
   "display_name": "Python 3 (ipykernel)",
   "language": "python",
   "name": "python3"
  },
  "language_info": {
   "codemirror_mode": {
    "name": "ipython",
    "version": 3
   },
   "file_extension": ".py",
   "mimetype": "text/x-python",
   "name": "python",
   "nbconvert_exporter": "python",
   "pygments_lexer": "ipython3",
   "version": "3.9.13"
  }
 },
 "nbformat": 4,
 "nbformat_minor": 5
}
